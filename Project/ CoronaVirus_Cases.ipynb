{
  "nbformat": 4,
  "nbformat_minor": 0,
  "metadata": {
    "colab": {
      "provenance": [],
      "authorship_tag": "ABX9TyP3gCh64dnAkBsxdgmeUxVf",
      "include_colab_link": true
    },
    "kernelspec": {
      "name": "python3",
      "display_name": "Python 3"
    },
    "language_info": {
      "name": "python"
    }
  },
  "cells": [
    {
      "cell_type": "markdown",
      "metadata": {
        "id": "view-in-github",
        "colab_type": "text"
      },
      "source": [
        "<a href=\"https://colab.research.google.com/github/rudycav/Web-Scraping-CoronaVirus-Cases/blob/master/Project/%20CoronaVirus_Cases.ipynb\" target=\"_parent\"><img src=\"https://colab.research.google.com/assets/colab-badge.svg\" alt=\"Open In Colab\"/></a>"
      ]
    },
    {
      "cell_type": "code",
      "execution_count": 487,
      "metadata": {
        "colab": {
          "base_uri": "https://localhost:8080/"
        },
        "id": "H4m9LczMP-dV",
        "outputId": "32682379-7465-4063-cebc-11946579dd38"
      },
      "outputs": [
        {
          "output_type": "stream",
          "name": "stdout",
          "text": [
            "COVID-19 CORONAVIRUS PANDEMIC\n",
            "As of 10/06/2022 02:12:59\n",
            "\n",
            "Cases :  624,863,302 \n",
            "Deaths :  6,555,322\n",
            "Recovered :  604,737,533\n"
          ]
        }
      ],
      "source": [
        "import requests\n",
        "from bs4 import BeautifulSoup\n",
        "from urllib.request import urlopen\n",
        "from pandas import DataFrame\n",
        "import pandas as pd\n",
        "from datetime import datetime\n",
        "import seaborn as sns\n",
        "import numpy as np\n",
        "import re\n",
        "import warnings\n",
        "warnings.simplefilter(action='ignore', category=FutureWarning)\n",
        "\n",
        "date = datetime.now()\n",
        "date_time = date.strftime(\"%m/%d/%Y %H:%M:%S\")\n",
        "\n",
        "cases = []\n",
        "data = []\n",
        "header = {'User-Agent':'Mozilla/5.0 (Windows NT 10.0; Win64; x64) AppleWebKit/537.36 (KHTML, like Gecko) Chrome/80.0.3987.149 Safari/537.36'}\n",
        "url = requests.get('https://www.worldometers.info/coronavirus/', header)\n",
        "bs = BeautifulSoup(url.content,'lxml')\n",
        "title_numbers = bs.find_all(['h1','span'])\n",
        "numbers = bs.find_all(class_='maincounter-number')\n",
        "data_table = bs.find_all('table', class_='main_table_countries')\n",
        "\n",
        "print('COVID-19 CORONAVIRUS PANDEMIC')\n",
        "print('As of', date_time)\n",
        "print()\n",
        "print('Cases : ', title_numbers[5].text)\n",
        "print('Deaths : ', title_numbers[7].text)\n",
        "print('Recovered : ', title_numbers[9].text)\n",
        "\n",
        "for table in data_table:\n",
        "    headers = []\n",
        "    rows = table.find_all('tr')\n",
        "    for header in table.find('tr').find_all('th'):\n",
        "        headers.append(header.text)\n",
        "    for row in table.find_all('tr')[1:]:\n",
        "        values = []\n",
        "        for column in row.find_all(['th', 'td']):\n",
        "            values.append(column.text)\n",
        "        if values:\n",
        "            dt = {headers[i]: values[i] for i in range(len(values))}\n",
        "            data.append(dt)\n",
        "            \n",
        "df = pd.DataFrame(data)\n",
        "\n",
        "df2 = df.rename(columns={\"1stcase\": \"FirstCase\", \"Serious,Critical\": \"Critical\"})"
      ]
    },
    {
      "cell_type": "code",
      "source": [
        "\n",
        "def punctuation_removal(df):\n",
        "    try:\n",
        "        #removes N/A, commas, and + symbol, converts empty cells into 0s from the dataframe\n",
        "        df = df.str.replace('N/A','').str.replace(',','').replace(r'^\\s*$', np.nan, regex=True).replace(np.nan, 0).astype(float).astype(int)\n",
        "    except:\n",
        "        pass\n",
        "    return df\n",
        "\n",
        "df2 = df2.apply(punctuation_removal)\n"
      ],
      "metadata": {
        "id": "OYcB9ry52gWV"
      },
      "execution_count": 506,
      "outputs": []
    },
    {
      "cell_type": "code",
      "source": [
        "df2['Country,Other'] = df2['Country,Other'].replace(r'\\n',' ', regex=True) "
      ],
      "metadata": {
        "id": "uhU2kTh7GQhO"
      },
      "execution_count": 507,
      "outputs": []
    },
    {
      "cell_type": "code",
      "source": [
        "#df2.TotalDeaths = df2.TotalDeaths.str.replace(',', '').replace(r'^\\s*$', np.nan, regex=True).replace(np.nan, 0).astype(float).astype(int)"
      ],
      "metadata": {
        "id": "eET0TOgfUCyQ"
      },
      "execution_count": 489,
      "outputs": []
    },
    {
      "cell_type": "code",
      "source": [
        "#df2.TotalCases = df2.TotalCases.str.replace(',', '').astype(float).astype(int)"
      ],
      "metadata": {
        "id": "VkDSh_KpQG3V"
      },
      "execution_count": 490,
      "outputs": []
    },
    {
      "cell_type": "code",
      "source": [
        "#df2['Country,Other'] = df2['Country,Other'].replace(r'\\n',' ', regex=True) "
      ],
      "metadata": {
        "id": "_3UMAlE6tFKu"
      },
      "execution_count": 491,
      "outputs": []
    },
    {
      "cell_type": "code",
      "source": [
        "#df2.NewCases = df2.NewCases.str.replace('[^\\w\\s]','').replace(r'^\\s*$', np.nan, regex=True).replace(np.nan, 0).astype(float).astype(int)"
      ],
      "metadata": {
        "id": "LSMlBUqH5jGH"
      },
      "execution_count": 492,
      "outputs": []
    },
    {
      "cell_type": "code",
      "source": [
        "#df2.NewDeaths = df2.NewDeaths.str.replace('[^\\w\\s]','').str.replace('N/A','').replace(r'^\\s*$', np.nan, regex=True).replace(np.nan, 0).astype(float).astype(int)"
      ],
      "metadata": {
        "id": "qS2gVKW462bH"
      },
      "execution_count": 493,
      "outputs": []
    },
    {
      "cell_type": "code",
      "source": [
        "#df2.TotalRecovered = df2.TotalRecovered.str.replace('N/A','').str.replace(',','').replace(r'^\\s*$', np.nan, regex=True).replace(np.nan, 0).astype(float).astype(int)"
      ],
      "metadata": {
        "id": "dV_hP9oX7q3e"
      },
      "execution_count": 494,
      "outputs": []
    },
    {
      "cell_type": "code",
      "source": [
        "#df2.NewRecovered = df2.NewRecovered.str.replace('[^\\w\\s]','').str.replace('N/A', '').replace(r'^\\s*$', np.nan, regex=True).replace(np.nan, 0)"
      ],
      "metadata": {
        "id": "UIIy1qUm7rLP"
      },
      "execution_count": 495,
      "outputs": []
    },
    {
      "cell_type": "code",
      "source": [
        "#df2.ActiveCases = df2.ActiveCases.str.replace('[^\\w\\s]','').str.replace('N/A', '').replace(r'^\\s*$', np.nan, regex=True).replace(np.nan, 0)"
      ],
      "metadata": {
        "id": "8kD6D1QQ92-y"
      },
      "execution_count": 496,
      "outputs": []
    },
    {
      "cell_type": "code",
      "source": [
        "#df2.Critical = df2.Critical.str.replace('[^\\w\\s]','').str.replace('N/A', '').replace(r'^\\s*$', np.nan, regex=True).replace(np.nan, 0)"
      ],
      "metadata": {
        "id": "E2_CPX4rDqvk"
      },
      "execution_count": 497,
      "outputs": []
    },
    {
      "cell_type": "code",
      "source": [
        "df2.columns"
      ],
      "metadata": {
        "colab": {
          "base_uri": "https://localhost:8080/"
        },
        "id": "XAeBuuh0QMeF",
        "outputId": "ae585502-709a-45f0-de26-3ffe3d3c14a4"
      },
      "execution_count": 498,
      "outputs": [
        {
          "output_type": "execute_result",
          "data": {
            "text/plain": [
              "Index(['#', 'Country,Other', 'TotalCases', 'NewCases', 'TotalDeaths',\n",
              "       'NewDeaths', 'TotalRecovered', 'NewRecovered', 'ActiveCases',\n",
              "       'Critical', 'Tot Cases/1M pop', 'Deaths/1M pop', 'TotalTests',\n",
              "       'Tests/\\n1M pop\\n', 'Population', 'Continent', '1 Caseevery X ppl',\n",
              "       '1 Deathevery X ppl', '1 Testevery X ppl', 'New Cases/1M pop',\n",
              "       'New Deaths/1M pop', 'Active Cases/1M pop'],\n",
              "      dtype='object')"
            ]
          },
          "metadata": {},
          "execution_count": 498
        }
      ]
    },
    {
      "cell_type": "code",
      "source": [
        "df2['Country,Other'].head(15)"
      ],
      "metadata": {
        "colab": {
          "base_uri": "https://localhost:8080/"
        },
        "id": "_I94m4jis6ng",
        "outputId": "dfb3366b-3102-46f1-db03-706fd9ce0889"
      },
      "execution_count": 500,
      "outputs": [
        {
          "output_type": "execute_result",
          "data": {
            "text/plain": [
              "0     \\nNorth America\\n\n",
              "1              \\nAsia\\n\n",
              "2            \\nEurope\\n\n",
              "3     \\nSouth America\\n\n",
              "4           \\nOceania\\n\n",
              "5            \\nAfrica\\n\n",
              "6                  \\n\\n\n",
              "7                 World\n",
              "8                   USA\n",
              "9                 India\n",
              "10               France\n",
              "11               Brazil\n",
              "12              Germany\n",
              "13             S. Korea\n",
              "14                   UK\n",
              "Name: Country,Other, dtype: object"
            ]
          },
          "metadata": {},
          "execution_count": 500
        }
      ]
    },
    {
      "cell_type": "code",
      "source": [
        "df2.head(10)"
      ],
      "metadata": {
        "colab": {
          "base_uri": "https://localhost:8080/",
          "height": 491
        },
        "id": "1wf3DDoDuTu_",
        "outputId": "8d0a9b13-c9c5-4ed5-95d9-2da924d9ac7e"
      },
      "execution_count": 508,
      "outputs": [
        {
          "output_type": "execute_result",
          "data": {
            "text/plain": [
              "   #    Country,Other  TotalCases  NewCases  TotalDeaths  NewDeaths  \\\n",
              "0  0   North America    116665220         0      1542172          0   \n",
              "1  0            Asia    190448953     28858      1481246         29   \n",
              "2  0          Europe    228528051         0      1922856          0   \n",
              "3  0   South America     64157352         0      1330345          0   \n",
              "4  0         Oceania     12411438      1443        21034         15   \n",
              "5  0          Africa     12651567         0       257654          0   \n",
              "6  0                          721         0           15          0   \n",
              "7  0            World   624863302     30301      6555322         44   \n",
              "8  1              USA    98411240         0      1086685          0   \n",
              "9  2            India    44603074         0       528733          0   \n",
              "\n",
              "   TotalRecovered  NewRecovered  ActiveCases  Critical  ...  TotalTests  \\\n",
              "0       111708347          2623      3414701      7937  ...           0   \n",
              "1       184655075         38456      4312632     10659  ...           0   \n",
              "2       221677869         19447      4927326      9959  ...           0   \n",
              "3        62453197           862       373810     10214  ...           0   \n",
              "4        12248217             0       142187        97  ...           0   \n",
              "5        11994122             0       399791      1015  ...           0   \n",
              "6             706             0            0         0  ...           0   \n",
              "7       604737533         61388     13570447     39881  ...           0   \n",
              "8        95432346             0      1892209      2733  ...  1119730103   \n",
              "9        44039883             0        34458       698  ...   895958696   \n",
              "\n",
              "   Tests/\\n1M pop\\n  Population          Continent  1 Caseevery X ppl  \\\n",
              "0                 0           0      North America                  0   \n",
              "1                 0           0               Asia                  0   \n",
              "2                 0           0             Europe                  0   \n",
              "3                 0           0      South America                  0   \n",
              "4                 0           0  Australia/Oceania                  0   \n",
              "5                 0           0             Africa                  0   \n",
              "6                 0           0                                     0   \n",
              "7                 0           0                All                  0   \n",
              "8           3344422   334805269      North America                  3   \n",
              "9            636953  1406631776               Asia                 32   \n",
              "\n",
              "  1 Deathevery X ppl  1 Testevery X ppl  New Cases/1M pop  New Deaths/1M pop  \\\n",
              "0                  0                  0                 0                  0   \n",
              "1                  0                  0                 0                  0   \n",
              "2                  0                  0                 0                  0   \n",
              "3                  0                  0                 0                  0   \n",
              "4                  0                  0                 0                  0   \n",
              "5                  0                  0                 0                  0   \n",
              "6                  0                  0                 0                  0   \n",
              "7                  0                  0                 0                  0   \n",
              "8                308                  0                 0                  0   \n",
              "9               2660                  2                 0                  0   \n",
              "\n",
              "   Active Cases/1M pop  \n",
              "0                    0  \n",
              "1                    0  \n",
              "2                    0  \n",
              "3                    0  \n",
              "4                    0  \n",
              "5                    0  \n",
              "6                    0  \n",
              "7                    0  \n",
              "8                 5652  \n",
              "9                   24  \n",
              "\n",
              "[10 rows x 22 columns]"
            ],
            "text/html": [
              "\n",
              "  <div id=\"df-1238f40d-c327-421a-8cd0-749899ab9d9c\">\n",
              "    <div class=\"colab-df-container\">\n",
              "      <div>\n",
              "<style scoped>\n",
              "    .dataframe tbody tr th:only-of-type {\n",
              "        vertical-align: middle;\n",
              "    }\n",
              "\n",
              "    .dataframe tbody tr th {\n",
              "        vertical-align: top;\n",
              "    }\n",
              "\n",
              "    .dataframe thead th {\n",
              "        text-align: right;\n",
              "    }\n",
              "</style>\n",
              "<table border=\"1\" class=\"dataframe\">\n",
              "  <thead>\n",
              "    <tr style=\"text-align: right;\">\n",
              "      <th></th>\n",
              "      <th>#</th>\n",
              "      <th>Country,Other</th>\n",
              "      <th>TotalCases</th>\n",
              "      <th>NewCases</th>\n",
              "      <th>TotalDeaths</th>\n",
              "      <th>NewDeaths</th>\n",
              "      <th>TotalRecovered</th>\n",
              "      <th>NewRecovered</th>\n",
              "      <th>ActiveCases</th>\n",
              "      <th>Critical</th>\n",
              "      <th>...</th>\n",
              "      <th>TotalTests</th>\n",
              "      <th>Tests/\\n1M pop\\n</th>\n",
              "      <th>Population</th>\n",
              "      <th>Continent</th>\n",
              "      <th>1 Caseevery X ppl</th>\n",
              "      <th>1 Deathevery X ppl</th>\n",
              "      <th>1 Testevery X ppl</th>\n",
              "      <th>New Cases/1M pop</th>\n",
              "      <th>New Deaths/1M pop</th>\n",
              "      <th>Active Cases/1M pop</th>\n",
              "    </tr>\n",
              "  </thead>\n",
              "  <tbody>\n",
              "    <tr>\n",
              "      <th>0</th>\n",
              "      <td>0</td>\n",
              "      <td>North America</td>\n",
              "      <td>116665220</td>\n",
              "      <td>0</td>\n",
              "      <td>1542172</td>\n",
              "      <td>0</td>\n",
              "      <td>111708347</td>\n",
              "      <td>2623</td>\n",
              "      <td>3414701</td>\n",
              "      <td>7937</td>\n",
              "      <td>...</td>\n",
              "      <td>0</td>\n",
              "      <td>0</td>\n",
              "      <td>0</td>\n",
              "      <td>North America</td>\n",
              "      <td>0</td>\n",
              "      <td>0</td>\n",
              "      <td>0</td>\n",
              "      <td>0</td>\n",
              "      <td>0</td>\n",
              "      <td>0</td>\n",
              "    </tr>\n",
              "    <tr>\n",
              "      <th>1</th>\n",
              "      <td>0</td>\n",
              "      <td>Asia</td>\n",
              "      <td>190448953</td>\n",
              "      <td>28858</td>\n",
              "      <td>1481246</td>\n",
              "      <td>29</td>\n",
              "      <td>184655075</td>\n",
              "      <td>38456</td>\n",
              "      <td>4312632</td>\n",
              "      <td>10659</td>\n",
              "      <td>...</td>\n",
              "      <td>0</td>\n",
              "      <td>0</td>\n",
              "      <td>0</td>\n",
              "      <td>Asia</td>\n",
              "      <td>0</td>\n",
              "      <td>0</td>\n",
              "      <td>0</td>\n",
              "      <td>0</td>\n",
              "      <td>0</td>\n",
              "      <td>0</td>\n",
              "    </tr>\n",
              "    <tr>\n",
              "      <th>2</th>\n",
              "      <td>0</td>\n",
              "      <td>Europe</td>\n",
              "      <td>228528051</td>\n",
              "      <td>0</td>\n",
              "      <td>1922856</td>\n",
              "      <td>0</td>\n",
              "      <td>221677869</td>\n",
              "      <td>19447</td>\n",
              "      <td>4927326</td>\n",
              "      <td>9959</td>\n",
              "      <td>...</td>\n",
              "      <td>0</td>\n",
              "      <td>0</td>\n",
              "      <td>0</td>\n",
              "      <td>Europe</td>\n",
              "      <td>0</td>\n",
              "      <td>0</td>\n",
              "      <td>0</td>\n",
              "      <td>0</td>\n",
              "      <td>0</td>\n",
              "      <td>0</td>\n",
              "    </tr>\n",
              "    <tr>\n",
              "      <th>3</th>\n",
              "      <td>0</td>\n",
              "      <td>South America</td>\n",
              "      <td>64157352</td>\n",
              "      <td>0</td>\n",
              "      <td>1330345</td>\n",
              "      <td>0</td>\n",
              "      <td>62453197</td>\n",
              "      <td>862</td>\n",
              "      <td>373810</td>\n",
              "      <td>10214</td>\n",
              "      <td>...</td>\n",
              "      <td>0</td>\n",
              "      <td>0</td>\n",
              "      <td>0</td>\n",
              "      <td>South America</td>\n",
              "      <td>0</td>\n",
              "      <td>0</td>\n",
              "      <td>0</td>\n",
              "      <td>0</td>\n",
              "      <td>0</td>\n",
              "      <td>0</td>\n",
              "    </tr>\n",
              "    <tr>\n",
              "      <th>4</th>\n",
              "      <td>0</td>\n",
              "      <td>Oceania</td>\n",
              "      <td>12411438</td>\n",
              "      <td>1443</td>\n",
              "      <td>21034</td>\n",
              "      <td>15</td>\n",
              "      <td>12248217</td>\n",
              "      <td>0</td>\n",
              "      <td>142187</td>\n",
              "      <td>97</td>\n",
              "      <td>...</td>\n",
              "      <td>0</td>\n",
              "      <td>0</td>\n",
              "      <td>0</td>\n",
              "      <td>Australia/Oceania</td>\n",
              "      <td>0</td>\n",
              "      <td>0</td>\n",
              "      <td>0</td>\n",
              "      <td>0</td>\n",
              "      <td>0</td>\n",
              "      <td>0</td>\n",
              "    </tr>\n",
              "    <tr>\n",
              "      <th>5</th>\n",
              "      <td>0</td>\n",
              "      <td>Africa</td>\n",
              "      <td>12651567</td>\n",
              "      <td>0</td>\n",
              "      <td>257654</td>\n",
              "      <td>0</td>\n",
              "      <td>11994122</td>\n",
              "      <td>0</td>\n",
              "      <td>399791</td>\n",
              "      <td>1015</td>\n",
              "      <td>...</td>\n",
              "      <td>0</td>\n",
              "      <td>0</td>\n",
              "      <td>0</td>\n",
              "      <td>Africa</td>\n",
              "      <td>0</td>\n",
              "      <td>0</td>\n",
              "      <td>0</td>\n",
              "      <td>0</td>\n",
              "      <td>0</td>\n",
              "      <td>0</td>\n",
              "    </tr>\n",
              "    <tr>\n",
              "      <th>6</th>\n",
              "      <td>0</td>\n",
              "      <td></td>\n",
              "      <td>721</td>\n",
              "      <td>0</td>\n",
              "      <td>15</td>\n",
              "      <td>0</td>\n",
              "      <td>706</td>\n",
              "      <td>0</td>\n",
              "      <td>0</td>\n",
              "      <td>0</td>\n",
              "      <td>...</td>\n",
              "      <td>0</td>\n",
              "      <td>0</td>\n",
              "      <td>0</td>\n",
              "      <td></td>\n",
              "      <td>0</td>\n",
              "      <td>0</td>\n",
              "      <td>0</td>\n",
              "      <td>0</td>\n",
              "      <td>0</td>\n",
              "      <td>0</td>\n",
              "    </tr>\n",
              "    <tr>\n",
              "      <th>7</th>\n",
              "      <td>0</td>\n",
              "      <td>World</td>\n",
              "      <td>624863302</td>\n",
              "      <td>30301</td>\n",
              "      <td>6555322</td>\n",
              "      <td>44</td>\n",
              "      <td>604737533</td>\n",
              "      <td>61388</td>\n",
              "      <td>13570447</td>\n",
              "      <td>39881</td>\n",
              "      <td>...</td>\n",
              "      <td>0</td>\n",
              "      <td>0</td>\n",
              "      <td>0</td>\n",
              "      <td>All</td>\n",
              "      <td>0</td>\n",
              "      <td>0</td>\n",
              "      <td>0</td>\n",
              "      <td>0</td>\n",
              "      <td>0</td>\n",
              "      <td>0</td>\n",
              "    </tr>\n",
              "    <tr>\n",
              "      <th>8</th>\n",
              "      <td>1</td>\n",
              "      <td>USA</td>\n",
              "      <td>98411240</td>\n",
              "      <td>0</td>\n",
              "      <td>1086685</td>\n",
              "      <td>0</td>\n",
              "      <td>95432346</td>\n",
              "      <td>0</td>\n",
              "      <td>1892209</td>\n",
              "      <td>2733</td>\n",
              "      <td>...</td>\n",
              "      <td>1119730103</td>\n",
              "      <td>3344422</td>\n",
              "      <td>334805269</td>\n",
              "      <td>North America</td>\n",
              "      <td>3</td>\n",
              "      <td>308</td>\n",
              "      <td>0</td>\n",
              "      <td>0</td>\n",
              "      <td>0</td>\n",
              "      <td>5652</td>\n",
              "    </tr>\n",
              "    <tr>\n",
              "      <th>9</th>\n",
              "      <td>2</td>\n",
              "      <td>India</td>\n",
              "      <td>44603074</td>\n",
              "      <td>0</td>\n",
              "      <td>528733</td>\n",
              "      <td>0</td>\n",
              "      <td>44039883</td>\n",
              "      <td>0</td>\n",
              "      <td>34458</td>\n",
              "      <td>698</td>\n",
              "      <td>...</td>\n",
              "      <td>895958696</td>\n",
              "      <td>636953</td>\n",
              "      <td>1406631776</td>\n",
              "      <td>Asia</td>\n",
              "      <td>32</td>\n",
              "      <td>2660</td>\n",
              "      <td>2</td>\n",
              "      <td>0</td>\n",
              "      <td>0</td>\n",
              "      <td>24</td>\n",
              "    </tr>\n",
              "  </tbody>\n",
              "</table>\n",
              "<p>10 rows × 22 columns</p>\n",
              "</div>\n",
              "      <button class=\"colab-df-convert\" onclick=\"convertToInteractive('df-1238f40d-c327-421a-8cd0-749899ab9d9c')\"\n",
              "              title=\"Convert this dataframe to an interactive table.\"\n",
              "              style=\"display:none;\">\n",
              "        \n",
              "  <svg xmlns=\"http://www.w3.org/2000/svg\" height=\"24px\"viewBox=\"0 0 24 24\"\n",
              "       width=\"24px\">\n",
              "    <path d=\"M0 0h24v24H0V0z\" fill=\"none\"/>\n",
              "    <path d=\"M18.56 5.44l.94 2.06.94-2.06 2.06-.94-2.06-.94-.94-2.06-.94 2.06-2.06.94zm-11 1L8.5 8.5l.94-2.06 2.06-.94-2.06-.94L8.5 2.5l-.94 2.06-2.06.94zm10 10l.94 2.06.94-2.06 2.06-.94-2.06-.94-.94-2.06-.94 2.06-2.06.94z\"/><path d=\"M17.41 7.96l-1.37-1.37c-.4-.4-.92-.59-1.43-.59-.52 0-1.04.2-1.43.59L10.3 9.45l-7.72 7.72c-.78.78-.78 2.05 0 2.83L4 21.41c.39.39.9.59 1.41.59.51 0 1.02-.2 1.41-.59l7.78-7.78 2.81-2.81c.8-.78.8-2.07 0-2.86zM5.41 20L4 18.59l7.72-7.72 1.47 1.35L5.41 20z\"/>\n",
              "  </svg>\n",
              "      </button>\n",
              "      \n",
              "  <style>\n",
              "    .colab-df-container {\n",
              "      display:flex;\n",
              "      flex-wrap:wrap;\n",
              "      gap: 12px;\n",
              "    }\n",
              "\n",
              "    .colab-df-convert {\n",
              "      background-color: #E8F0FE;\n",
              "      border: none;\n",
              "      border-radius: 50%;\n",
              "      cursor: pointer;\n",
              "      display: none;\n",
              "      fill: #1967D2;\n",
              "      height: 32px;\n",
              "      padding: 0 0 0 0;\n",
              "      width: 32px;\n",
              "    }\n",
              "\n",
              "    .colab-df-convert:hover {\n",
              "      background-color: #E2EBFA;\n",
              "      box-shadow: 0px 1px 2px rgba(60, 64, 67, 0.3), 0px 1px 3px 1px rgba(60, 64, 67, 0.15);\n",
              "      fill: #174EA6;\n",
              "    }\n",
              "\n",
              "    [theme=dark] .colab-df-convert {\n",
              "      background-color: #3B4455;\n",
              "      fill: #D2E3FC;\n",
              "    }\n",
              "\n",
              "    [theme=dark] .colab-df-convert:hover {\n",
              "      background-color: #434B5C;\n",
              "      box-shadow: 0px 1px 3px 1px rgba(0, 0, 0, 0.15);\n",
              "      filter: drop-shadow(0px 1px 2px rgba(0, 0, 0, 0.3));\n",
              "      fill: #FFFFFF;\n",
              "    }\n",
              "  </style>\n",
              "\n",
              "      <script>\n",
              "        const buttonEl =\n",
              "          document.querySelector('#df-1238f40d-c327-421a-8cd0-749899ab9d9c button.colab-df-convert');\n",
              "        buttonEl.style.display =\n",
              "          google.colab.kernel.accessAllowed ? 'block' : 'none';\n",
              "\n",
              "        async function convertToInteractive(key) {\n",
              "          const element = document.querySelector('#df-1238f40d-c327-421a-8cd0-749899ab9d9c');\n",
              "          const dataTable =\n",
              "            await google.colab.kernel.invokeFunction('convertToInteractive',\n",
              "                                                     [key], {});\n",
              "          if (!dataTable) return;\n",
              "\n",
              "          const docLinkHtml = 'Like what you see? Visit the ' +\n",
              "            '<a target=\"_blank\" href=https://colab.research.google.com/notebooks/data_table.ipynb>data table notebook</a>'\n",
              "            + ' to learn more about interactive tables.';\n",
              "          element.innerHTML = '';\n",
              "          dataTable['output_type'] = 'display_data';\n",
              "          await google.colab.output.renderOutput(dataTable, element);\n",
              "          const docLink = document.createElement('div');\n",
              "          docLink.innerHTML = docLinkHtml;\n",
              "          element.appendChild(docLink);\n",
              "        }\n",
              "      </script>\n",
              "    </div>\n",
              "  </div>\n",
              "  "
            ]
          },
          "metadata": {},
          "execution_count": 508
        }
      ]
    },
    {
      "cell_type": "code",
      "source": [
        "df2.TotalCases.dtype"
      ],
      "metadata": {
        "colab": {
          "base_uri": "https://localhost:8080/"
        },
        "id": "Ou_FGGZIS1vo",
        "outputId": "3edcff8f-defb-4c63-f1ca-25fd44c07470"
      },
      "execution_count": 502,
      "outputs": [
        {
          "output_type": "execute_result",
          "data": {
            "text/plain": [
              "dtype('int64')"
            ]
          },
          "metadata": {},
          "execution_count": 502
        }
      ]
    },
    {
      "cell_type": "code",
      "source": [
        "df2.TotalDeaths.dtype"
      ],
      "metadata": {
        "colab": {
          "base_uri": "https://localhost:8080/"
        },
        "id": "bcR8hmZ1QLfd",
        "outputId": "28fc3ebd-209a-4d2d-9dee-261565bd6674"
      },
      "execution_count": 503,
      "outputs": [
        {
          "output_type": "execute_result",
          "data": {
            "text/plain": [
              "dtype('int64')"
            ]
          },
          "metadata": {},
          "execution_count": 503
        }
      ]
    }
  ]
}